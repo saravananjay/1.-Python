{
 "cells": [
  {
   "cell_type": "code",
   "execution_count": 2,
   "id": "d56b49a1-3fa0-4487-8021-4e840901b318",
   "metadata": {},
   "outputs": [
    {
     "name": "stdout",
     "output_type": "stream",
     "text": [
      "HOPE AI\n"
     ]
    },
    {
     "name": "stdin",
     "output_type": "stream",
     "text": [
      "Enter your Institute name:  HOPE AI\n"
     ]
    }
   ],
   "source": [
    "print(\"HOPE AI\")\n",
    "# Buy input\n",
    "inst_name=str(input(\"Enter your Institute name: \"))"
   ]
  },
  {
   "cell_type": "code",
   "execution_count": 4,
   "id": "3f35d0ed-84ae-4bb9-9b0f-e4065f08304d",
   "metadata": {},
   "outputs": [
    {
     "name": "stdin",
     "output_type": "stream",
     "text": [
      "Enter your name:  Saravanan\n",
      "Enter your age:  48\n",
      "Enter your school name:  MIT\n",
      "Enter your degree:  B.E. Instrumentation\n"
     ]
    }
   ],
   "source": [
    "inst_name=str(input(\"Enter your name: \"))\n",
    "inst_name=int(input(\"Enter your age: \"))\n",
    "inst_name=str(input(\"Enter your school name: \"))\n",
    "inst_name=str(input(\"Enter your degree: \"))"
   ]
  },
  {
   "cell_type": "code",
   "execution_count": 6,
   "id": "344409c6-c7f7-4423-8d72-52a04a35c9d9",
   "metadata": {},
   "outputs": [
    {
     "name": "stdin",
     "output_type": "stream",
     "text": [
      "Enter the first number 5\n",
      "Enter the second number 6\n"
     ]
    },
    {
     "name": "stdout",
     "output_type": "stream",
     "text": [
      "a=  5\n",
      "b=  6\n",
      "add=  11\n"
     ]
    }
   ],
   "source": [
    "a=int(input(\"Enter the first number\"))\n",
    "b=int(input(\"Enter the second number\"))\n",
    "print(\"a= \",a)\n",
    "print(\"b= \",b)\n",
    "print(\"add= \",a+b)"
   ]
  },
  {
   "cell_type": "code",
   "execution_count": 10,
   "id": "b4e842ee-df00-4a19-87b5-3d27e048200c",
   "metadata": {},
   "outputs": [
    {
     "name": "stdout",
     "output_type": "stream",
     "text": [
      "sub=  -1\n",
      "mul=  30\n",
      "div=  0.8333333333333334\n",
      "floor div=  0\n",
      "modulo=  5\n",
      "exp=  15625\n"
     ]
    }
   ],
   "source": [
    "print(\"sub= \",a-b)\n",
    "print(\"mul= \",a*b)\n",
    "print(\"div= \",a/b)\n",
    "print(\"floor div= \",a//b)\n",
    "print(\"modulo= \",a%b)\n",
    "print(\"exp= \",a**b)"
   ]
  },
  {
   "cell_type": "code",
   "execution_count": null,
   "id": "caf4c892-0780-4b2a-9261-f17f137ceee8",
   "metadata": {},
   "outputs": [],
   "source": []
  }
 ],
 "metadata": {
  "kernelspec": {
   "display_name": "Python [conda env:base] *",
   "language": "python",
   "name": "conda-base-py"
  },
  "language_info": {
   "codemirror_mode": {
    "name": "ipython",
    "version": 3
   },
   "file_extension": ".py",
   "mimetype": "text/x-python",
   "name": "python",
   "nbconvert_exporter": "python",
   "pygments_lexer": "ipython3",
   "version": "3.12.7"
  }
 },
 "nbformat": 4,
 "nbformat_minor": 5
}
