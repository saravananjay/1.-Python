{
 "cells": [
  {
   "cell_type": "code",
   "execution_count": 2,
   "id": "d70372ee-0f06-4964-b312-169407632feb",
   "metadata": {},
   "outputs": [],
   "source": [
    "# Create a class and function, and list out the items in the list"
   ]
  },
  {
   "cell_type": "code",
   "execution_count": 32,
   "id": "43b8828e-3b34-499c-865c-9475bfa9b3d4",
   "metadata": {},
   "outputs": [],
   "source": [
    "def SubfieldsInAI():\n",
    "    subfields =[\"Machine Learning\",\"Neural Networks\",\"Vision\",\"Robotics\",\"Speech Processing\",\"Natural Language Processing\"]\n",
    "    print(\"Sub-fields in AI are: \")\n",
    "    for i in subfields:\n",
    "        print (i)"
   ]
  },
  {
   "cell_type": "code",
   "execution_count": 34,
   "id": "584320fa-5790-47ec-9ae1-4a703333e959",
   "metadata": {},
   "outputs": [
    {
     "name": "stdout",
     "output_type": "stream",
     "text": [
      "Sub-fields in AI are: \n",
      "Machine Learning\n",
      "Neural Networks\n",
      "Vision\n",
      "Robotics\n",
      "Speech Processing\n",
      "Natural Language Processing\n"
     ]
    }
   ],
   "source": [
    "SubfieldsInAI()"
   ]
  },
  {
   "cell_type": "code",
   "execution_count": 36,
   "id": "3f6a90a0-c4f7-43ca-95ae-e5006c4936cb",
   "metadata": {},
   "outputs": [],
   "source": [
    "# Create a function that checks whether the given number is Odd or Even"
   ]
  },
  {
   "cell_type": "code",
   "execution_count": 42,
   "id": "ec10b4bc-35cf-4947-9354-aa8857569b98",
   "metadata": {},
   "outputs": [],
   "source": [
    "def OddEven():\n",
    "    Num=int(input(\"Enter a number:\"))\n",
    "    if Num%2==0:\n",
    "        print(Num,\"is Even number\")\n",
    "    else:\n",
    "        print(Num,\"is Odd number\")"
   ]
  },
  {
   "cell_type": "code",
   "execution_count": 46,
   "id": "3f0df374-e029-4a24-b773-940f2b87743c",
   "metadata": {},
   "outputs": [
    {
     "name": "stdin",
     "output_type": "stream",
     "text": [
      "Enter a number: 33\n"
     ]
    },
    {
     "name": "stdout",
     "output_type": "stream",
     "text": [
      "33 is Odd number\n"
     ]
    }
   ],
   "source": [
    "OddEven()"
   ]
  },
  {
   "cell_type": "code",
   "execution_count": 48,
   "id": "2bbc2877-49b3-43fe-a138-8cd7a0e3810e",
   "metadata": {},
   "outputs": [],
   "source": [
    "# Create a function that tells elegibility of marriage for male and female according to their age limit like 21 for male and 18 for female"
   ]
  },
  {
   "cell_type": "code",
   "execution_count": null,
   "id": "c1fe30d5-47ea-4646-a2bc-a60027b145bd",
   "metadata": {},
   "outputs": [],
   "source": []
  },
  {
   "cell_type": "code",
   "execution_count": 45,
   "id": "8a9682b5-c223-473b-b019-09575f7a769f",
   "metadata": {},
   "outputs": [
    {
     "name": "stdin",
     "output_type": "stream",
     "text": [
      "Please select your gender:  Male\n"
     ]
    },
    {
     "name": "stdout",
     "output_type": "stream",
     "text": [
      "Male\n"
     ]
    },
    {
     "name": "stdin",
     "output_type": "stream",
     "text": [
      "Please select your age:  76\n"
     ]
    },
    {
     "name": "stdout",
     "output_type": "stream",
     "text": [
      "Eligible for marriage\n"
     ]
    }
   ],
   "source": [
    "def marriage_eligibility():\n",
    "    valid_responses=[\"Male\",\"Female\"]\n",
    "    Gender = str(input(\"Please select your gender: \"))\n",
    "    if Gender not in valid_responses:\n",
    "        print(\"Invalid input. Please enter Male or Female. Rerun the function\")\n",
    "        return\n",
    "    else:\n",
    "        print(Gender)\n",
    "    Age = int(input(\"Please select your age: \"))\n",
    "    if Gender==\"Male\": \n",
    "        if Age>=21:\n",
    "            print(\"Eligible for marriage\")\n",
    "        else:\n",
    "            print(\"Not eligible for marriage\")\n",
    "    elif Gender==\"Female\":\n",
    "        if Age>=18:\n",
    "            print(\"Eligible for marriage\")\n",
    "        else:\n",
    "            print(\"Not eligible for marriage\")\n",
    "\n",
    "marriage_eligibility()"
   ]
  },
  {
   "cell_type": "code",
   "execution_count": 47,
   "id": "e9f046b7-2935-418e-af48-046132634952",
   "metadata": {},
   "outputs": [],
   "source": [
    "# calculate the percentage of your 10th mark"
   ]
  },
  {
   "cell_type": "code",
   "execution_count": 55,
   "id": "bf0ec924-83be-493e-b4c1-72125a3d6589",
   "metadata": {},
   "outputs": [
    {
     "name": "stdin",
     "output_type": "stream",
     "text": [
      "Enter your marks in Subject 1: 98\n",
      "Enter your marks in Subject 2: 87\n",
      "Enter your marks in Subject 3: 95\n",
      "Enter your marks in Subject 4: 95\n",
      "Enter your marks in Subject 5: 93\n"
     ]
    },
    {
     "data": {
      "text/plain": [
       "93.6"
      ]
     },
     "execution_count": 55,
     "metadata": {},
     "output_type": "execute_result"
    }
   ],
   "source": [
    "def Findpercent():\n",
    "    Sub1Mark=int(input(\"Enter your marks in Subject 1:\"))\n",
    "    Sub2Mark=int(input(\"Enter your marks in Subject 2:\"))\n",
    "    Sub3Mark=int(input(\"Enter your marks in Subject 3:\"))\n",
    "    Sub4Mark=int(input(\"Enter your marks in Subject 4:\"))\n",
    "    Sub5Mark=int(input(\"Enter your marks in Subject 5:\"))\n",
    "    Total=Sub1Mark+Sub2Mark+Sub3Mark+Sub4Mark+Sub5Mark\n",
    "    percentage=float(Total/5)\n",
    "    return(percentage)\n",
    "Findpercent()"
   ]
  },
  {
   "cell_type": "code",
   "execution_count": 57,
   "id": "f9bbd51b-5da7-496c-970d-156f3a748642",
   "metadata": {},
   "outputs": [],
   "source": [
    "#print area and perimeter of triangle using class and functions"
   ]
  },
  {
   "cell_type": "code",
   "execution_count": 65,
   "id": "d3306e49-e09c-426e-b018-fe254b87241f",
   "metadata": {},
   "outputs": [
    {
     "name": "stdin",
     "output_type": "stream",
     "text": [
      "Enter the height of the triangle: 4\n",
      "Enter the breadth of the triangle: 5\n"
     ]
    },
    {
     "name": "stdout",
     "output_type": "stream",
     "text": [
      "4.0\n",
      "5.0\n",
      "Area formula: (height * breadth)/2\n",
      "Area of the triangle: 10.0\n"
     ]
    },
    {
     "name": "stdin",
     "output_type": "stream",
     "text": [
      "Enter the slope1 of the triangle: 3\n",
      "Enter the slope2 of the triangle: 4\n"
     ]
    },
    {
     "name": "stdout",
     "output_type": "stream",
     "text": [
      "3.0\n",
      "4.0\n",
      "Perimeter formula: Height1+Height2+Breadth\n",
      "Perimeter of Triangle: 12.0\n"
     ]
    }
   ],
   "source": [
    "def triangle():\n",
    "    height=float(input(\"Enter the height of the triangle:\"))\n",
    "    breadth=float(input(\"Enter the breadth of the triangle:\"))\n",
    "    print(height)\n",
    "    print(breadth)\n",
    "    print(\"Area formula: (height * breadth)/2\")\n",
    "    print(\"Area of the triangle:\",height*breadth/2)\n",
    "    slope1=float(input(\"Enter the slope1 of the triangle:\"))\n",
    "    slope2=float(input(\"Enter the slope2 of the triangle:\"))\n",
    "    print(slope1)\n",
    "    print(slope2)\n",
    "    print(\"Perimeter formula: Height1+Height2+Breadth\")\n",
    "    print(\"Perimeter of Triangle:\",slope1+slope2+breadth)\n",
    "\n",
    "triangle()"
   ]
  },
  {
   "cell_type": "code",
   "execution_count": null,
   "id": "d103eeaf-466c-42f4-ace7-b600dc07680f",
   "metadata": {},
   "outputs": [],
   "source": []
  }
 ],
 "metadata": {
  "kernelspec": {
   "display_name": "Python [conda env:base] *",
   "language": "python",
   "name": "conda-base-py"
  },
  "language_info": {
   "codemirror_mode": {
    "name": "ipython",
    "version": 3
   },
   "file_extension": ".py",
   "mimetype": "text/x-python",
   "name": "python",
   "nbconvert_exporter": "python",
   "pygments_lexer": "ipython3",
   "version": "3.12.7"
  }
 },
 "nbformat": 4,
 "nbformat_minor": 5
}
